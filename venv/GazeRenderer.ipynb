{
 "cells": [
  {
   "cell_type": "code",
   "execution_count": 1,
   "metadata": {},
   "outputs": [],
   "source": [
    "import ipywidgets as widgets\n",
    "import numpy as np\n",
    "from matplotlib import pyplot as plt\n",
    "import pandas"
   ]
  },
  {
   "cell_type": "code",
   "execution_count": 3,
   "metadata": {},
   "outputs": [
    {
     "name": "stdout",
     "output_type": "stream",
     "text": [
      "31\n",
      "[['p6', 0.739130435], ['p24', 0.739130435], ['p12', 0.695652174], ['p1', 0.608695652], ['p35', 0.608695652], ['p7', 0.565217391], ['p19', 0.565217391], ['p23', 0.565217391], ['p25', 0.565217391], ['p18', 0.565217391], ['p34', 0.565217391], ['p5', 0.52173913], ['p15', 0.52173913], ['p4', 0.52173913], ['p28', 0.52173913], ['p36', 0.52173913], ['p3', 0.47826087], ['p11', 0.47826087], ['p33', 0.47826087], ['p10', 0.47826087], ['p16', 0.47826087], ['p30', 0.47826087], ['p13', 0.434782609], ['p17', 0.434782609], ['p21', 0.434782609], ['p20', 0.434782609], ['p31', 0.391304348], ['p2', 0.391304348], ['p32', 0.347826087], ['p27', 0.260869565], ['p14', 0.217391304]]\n"
     ]
    }
   ],
   "source": [
    "\n",
    "data2=pandas.read_csv(\"./Archive/Project2AddData.csv\", sep=\",\")\n",
    "resultsgraph={}\n",
    "resultstree={}\n",
    "orderresultGraph=[]\n",
    "orderresultTree=[]\n",
    "\n",
    "for i in range(len(data2)):\n",
    "    if(data2[\"Visualization\"][i]==2):\n",
    "        resultsgraph[str(data2[\"ID\"][i])]=data2[\"Task_Success\"][i]\n",
    "        orderresultGraph.append([str(data2[\"ID\"][i]),data2[\"Task_Success\"][i]])\n",
    "        \n",
    "    else:\n",
    "        resultstree[str(data2[\"ID\"][i])]=data2[\"Task_Success\"][i]\n",
    "        orderresultTree.append([str(data2[\"ID\"][i]),data2[\"Task_Success\"][i]])\n",
    "\n",
    "\n",
    "orderresultTree.sort(key=lambda x: x[1], reverse=True)\n",
    "orderresultGraph.sort(key=lambda x: x[1], reverse=True)\n",
    "print(len(orderresultTree))\n",
    "print(orderresultTree)\n",
    "        \n",
    "        "
   ]
  },
  {
   "cell_type": "code",
   "execution_count": 4,
   "metadata": {},
   "outputs": [],
   "source": [
    "import pandas\n",
    "\n",
    "\n",
    "  \n",
    "import numpy as np \n",
    "import matplotlib.pyplot as plt\n",
    "methods = [None, 'none', 'nearest', 'bilinear', 'bicubic', 'spline16', 'spline36', 'hanning', 'hamming', \\\n",
    "           'hermite', 'kaiser', 'quadric', 'catrom', 'gaussian', 'bessel', 'mitchell', 'sinc', 'lanczos']\n",
    "def interactiveplot(Time=1,Place=0,Visualization=1,Smooth=1):\n",
    "    \n",
    "    p=\"\"\n",
    "    print(\"Visualization 1 = Tree  |  Visualization 2 = Graph  |  Smooth is \",methods[Smooth])\n",
    "    if(Visualization==2):\n",
    "        p=orderresultGraph[Place-1][0]\n",
    "        data=pandas.read_csv(\"./Archive/\"+p+\"/\"+p+\".graphFXD.txt\", sep=\"\\t\", header=None, names=[\"index\", \"time\",\"duration\", \"x\",\"y\"])\n",
    "        print(\"Score of \",p,\" : \",resultsgraph[p])\n",
    "    else:\n",
    "        p=orderresultTree[Place-1][0]\n",
    "        data=pandas.read_csv(\"./Archive/\"+p+\"/\"+p+\".treeFXD.txt\", sep=\"\\t\", header=None, names=[\"index\", \"time\",\"duration\", \"x\",\"y\"])\n",
    "        print(\"Place \",Place,\" is \",p,\" with a score of : \",resultstree[p])        \n",
    "    X=[]\n",
    "    Y=[]\n",
    "    for i in range(round(len(data)/100*Time)) :\n",
    "        X.extend([data[\"x\"][i]]* data[\"duration\"][i])\n",
    "        Y.extend([data[\"y\"][i]]* data[\"duration\"][i])\n",
    "    heatmap, xedges, yedges = np.histogram2d(X, Y, bins=50)\n",
    "    extent = [0, 1400, 0, 1400]\n",
    "    plt.clf()\n",
    "    plt.imshow(heatmap.T, extent=extent, origin='lower',interpolation=methods[Smooth])\n",
    "    plt.gcf().set_size_inches(4, 4)\n",
    "    plt.title(\"Area looked on the screen\")\n",
    "    plt.show()"
   ]
  },
  {
   "cell_type": "code",
   "execution_count": 5,
   "metadata": {},
   "outputs": [
    {
     "data": {
      "application/vnd.jupyter.widget-view+json": {
       "model_id": "c7735b07150b4d8fbc4a645359d2dcc2",
       "version_major": 2,
       "version_minor": 0
      },
      "text/plain": [
       "interactive(children=(IntSlider(value=1, description='Time', step=10), IntSlider(value=1, description='Place',…"
      ]
     },
     "metadata": {},
     "output_type": "display_data"
    }
   ],
   "source": [
    "widgets.interact(interactiveplot, Time=(0, 100, 10),Place=(1, 31, 1),Visualization=(1,2,1),Smooth=(1,17,1));"
   ]
  },
  {
   "cell_type": "code",
   "execution_count": 123,
   "metadata": {},
   "outputs": [
    {
     "data": {
      "application/vnd.jupyter.widget-view+json": {
       "model_id": "24b6487ed82f4a3a9aaff0d5350824dc",
       "version_major": 2,
       "version_minor": 0
      },
      "text/plain": [
       "interactive(children=(Play(value=1, description='Time', min=1), IntSlider(value=1, description='Person', max=3…"
      ]
     },
     "metadata": {},
     "output_type": "display_data"
    }
   ],
   "source": [
    "widgets.interact(interactiveplot, Time=widgets.Play(min=1, max=100),Place=(1, 31, 1),Visualization=(1,2,1),Smooth=(1,17,1));"
   ]
  },
  {
   "cell_type": "code",
   "execution_count": null,
   "metadata": {},
   "outputs": [],
   "source": []
  }
 ],
 "metadata": {
  "interpreter": {
   "hash": "b0fa6594d8f4cbf19f97940f81e996739fb7646882a419484c72d19e05852a7e"
  },
  "kernelspec": {
   "display_name": "Python 3.9.13 64-bit",
   "name": "python3"
  },
  "language_info": {
   "codemirror_mode": {
    "name": "ipython",
    "version": 3
   },
   "file_extension": ".py",
   "mimetype": "text/x-python",
   "name": "python",
   "nbconvert_exporter": "python",
   "pygments_lexer": "ipython3",
   "version": "3.9.13"
  }
 },
 "nbformat": 4,
 "nbformat_minor": 2
}
